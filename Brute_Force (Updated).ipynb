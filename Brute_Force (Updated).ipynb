{
  "nbformat": 4,
  "nbformat_minor": 0,
  "metadata": {
    "colab": {
      "provenance": [],
      "authorship_tag": "ABX9TyM1ojELhGwMkNO1cdFmyD5W",
      "include_colab_link": true
    },
    "kernelspec": {
      "name": "python3",
      "display_name": "Python 3"
    },
    "language_info": {
      "name": "python"
    }
  },
  "cells": [
    {
      "cell_type": "markdown",
      "metadata": {
        "id": "view-in-github",
        "colab_type": "text"
      },
      "source": [
        "<a href=\"https://colab.research.google.com/github/B34R-e/Data-Structures-and-Algorithms/blob/main/Brute_Force%20(Updated).ipynb\" target=\"_parent\"><img src=\"https://colab.research.google.com/assets/colab-badge.svg\" alt=\"Open In Colab\"/></a>"
      ]
    },
    {
      "cell_type": "markdown",
      "source": [
        "# Sorting Problems:"
      ],
      "metadata": {
        "id": "vRTStZvValc6"
      }
    },
    {
      "cell_type": "markdown",
      "source": [
        "## Selection sort:\n",
        "Time Complexities:\n",
        "\n",
        "**Best case**: O(n^2)\n",
        "* The array is already sorted.\n",
        "\n",
        "**Worst case**: O(n^2)\n",
        "* The array is sorted.\n",
        "\n",
        "**Average case**: O(n^2)"
      ],
      "metadata": {
        "id": "rq6KOt_6aqUi"
      }
    },
    {
      "cell_type": "code",
      "execution_count": null,
      "metadata": {
        "id": "r7V_-XNgaeRb"
      },
      "outputs": [],
      "source": [
        "# Select the smallest element from unsorted list in each iteration\n",
        "# Place that element at the beginning of the unsorted list.\n",
        "\n",
        "def selection_sort(unsorted_list):\n",
        "  for step in range(len(unsorted_list) - 1):\n",
        "    # Set the index of first element in this iteration as minimum value index\n",
        "      min_index = step\n",
        "      for ii in range(step + 1, len(unsorted_list)):\n",
        "        # Compare the other element with the minimum. If the other element is smaller than minimum, assign the other element index to minimum value index.\n",
        "        if unsorted_list[ii] < unsorted_list[min_index]:\n",
        "          min_index = ii\n",
        "        # After each iteration, minimum is placed at the top of the unsorted list.\n",
        "      unsorted_list[step], unsorted_list[min_index] = unsorted_list[min_index], unsorted_list[step]\n",
        "  return unsorted_list"
      ]
    },
    {
      "cell_type": "code",
      "source": [
        "selection_sort([7, 2, 5, 4, 17])"
      ],
      "metadata": {
        "colab": {
          "base_uri": "https://localhost:8080/"
        },
        "id": "VRMn3NwodyxB",
        "outputId": "796e040f-013c-458d-f7dc-d2e1a85a2588"
      },
      "execution_count": null,
      "outputs": [
        {
          "output_type": "execute_result",
          "data": {
            "text/plain": [
              "[2, 4, 5, 7, 17]"
            ]
          },
          "metadata": {},
          "execution_count": 14
        }
      ]
    },
    {
      "cell_type": "markdown",
      "source": [
        "## Bubble sort:\n",
        "Time Complexities:\n",
        "\n",
        "**Best case**: O(n^2)\n",
        "* The array is already sorted.\n",
        "\n",
        "**Worst case**: O(n^2)\n",
        "* The array is sorted.\n",
        "\n",
        "**Average case**: O(n^2)"
      ],
      "metadata": {
        "id": "fOKIR5cKfYzL"
      }
    },
    {
      "cell_type": "code",
      "source": [
        "# Select the largest element from unsorted list in each iteration\n",
        "# Place that element at the end of the unsorted list.\n",
        "\n",
        "def bubble_sort(unsorted_list):\n",
        "  # Define the number of steps need to be iterated\n",
        "  for step in range(len(unsorted_list) - 1):\n",
        "    # Compare an element with the next of it. If the element larger than it's next. Then swap the two element.\n",
        "    for ii in range(0, len(unsorted_list) - 1 - step):\n",
        "      if unsorted_list[ii] > unsorted_list[ii + 1]:\n",
        "        unsorted_list[ii], unsorted_list[ii + 1] = unsorted_list[ii + 1], unsorted_list[ii]\n",
        "    # After each iteration the largest element is already placed at the bottom of the unsorted list.\n",
        "  return unsorted_list"
      ],
      "metadata": {
        "id": "_8r-cGMygYz4"
      },
      "execution_count": 1,
      "outputs": []
    },
    {
      "cell_type": "code",
      "source": [
        "bubble_sort([7, 2, 5, 4, 17, 23, 1, 2, 3, 50, 999999, 99, 333, 222])"
      ],
      "metadata": {
        "colab": {
          "base_uri": "https://localhost:8080/"
        },
        "id": "ILvW90KRgkiB",
        "outputId": "8f9f2bd0-e71b-41fb-fac5-5e797ef3d670"
      },
      "execution_count": 2,
      "outputs": [
        {
          "output_type": "execute_result",
          "data": {
            "text/plain": [
              "[1, 2, 2, 3, 4, 5, 7, 17, 23, 50, 99, 222, 333, 999999]"
            ]
          },
          "metadata": {},
          "execution_count": 2
        }
      ]
    },
    {
      "cell_type": "markdown",
      "source": [
        "# Exhaustive Search:"
      ],
      "metadata": {
        "id": "LswS1r7ckUht"
      }
    },
    {
      "cell_type": "markdown",
      "source": [
        "## Traveling Salesman Problem:"
      ],
      "metadata": {
        "id": "etIY_lllkaFt"
      }
    },
    {
      "cell_type": "code",
      "source": [
        "def permute(nums):\n",
        "  L = []\n",
        "  n = len(nums)\n",
        "  i = 0\n",
        "  while i < n:\n",
        "    if not L:\n",
        "      L.append([nums[i]])\n",
        "    else:\n",
        "      newl = []\n",
        "      for element in L:\n",
        "        for j in range(0, i + 1):\n",
        "          e = element[:]\n",
        "          e.insert(j, nums[i])\n",
        "          newl.append(e)\n",
        "      L = newl\n",
        "    i += 1\n",
        "  \n",
        "  return L"
      ],
      "metadata": {
        "id": "prbKlkr3kXm7"
      },
      "execution_count": null,
      "outputs": []
    },
    {
      "cell_type": "code",
      "source": [
        "S = [1, 2, 3]\n",
        "permute(S)"
      ],
      "metadata": {
        "colab": {
          "base_uri": "https://localhost:8080/"
        },
        "id": "nOeHXuLEMH8M",
        "outputId": "e20539ad-d208-4a48-ae37-03ba7c058bc8"
      },
      "execution_count": null,
      "outputs": [
        {
          "output_type": "execute_result",
          "data": {
            "text/plain": [
              "[[3, 2, 1], [2, 3, 1], [2, 1, 3], [3, 1, 2], [1, 3, 2], [1, 2, 3]]"
            ]
          },
          "metadata": {},
          "execution_count": 25
        }
      ]
    },
    {
      "cell_type": "code",
      "source": [
        "from sys import maxsize\n",
        "from itertools import permutations\n",
        "def traveling_salesman_problem(distances, s, num_cities):\n",
        "  cities = []\n",
        "  for i in range(num_cities):\n",
        "    if i != s:\n",
        "      cities.append(i)\n",
        "  min_path = maxsize\n",
        "  next_permutation = permutations(cities)\n",
        "  for i in next_permutation:\n",
        "    current_pathweight = 0\n",
        "    k = s\n",
        "    for j in i:\n",
        "      current_pathweight += distances[k][j]\n",
        "      k = j\n",
        "    current_pathweight += distances[k][s]\n",
        "    min_path = min(min_path, current_pathweight)\n",
        "\n",
        "  return min_path"
      ],
      "metadata": {
        "id": "o6wVU1l8MKUf"
      },
      "execution_count": null,
      "outputs": []
    },
    {
      "cell_type": "code",
      "source": [
        "distances = [\n",
        "    [0, 2, 8, 5], [2, 0 ,3 ,4],\n",
        "    [8, 3, 0, 7], [5, 4, 7, 0]\n",
        "]\n",
        "\n",
        "s = 0\n",
        "num_cities = 4\n",
        "\n",
        "traveling_salesman_problem(distances, s, num_cities)"
      ],
      "metadata": {
        "colab": {
          "base_uri": "https://localhost:8080/"
        },
        "id": "8JH0EgPoM6f0",
        "outputId": "163776b9-afcb-444c-c16c-1b5e2ae40dda"
      },
      "execution_count": null,
      "outputs": [
        {
          "output_type": "execute_result",
          "data": {
            "text/plain": [
              "17"
            ]
          },
          "metadata": {},
          "execution_count": 33
        }
      ]
    }
  ]
}