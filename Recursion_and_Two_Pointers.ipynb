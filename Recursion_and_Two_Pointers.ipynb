{
  "nbformat": 4,
  "nbformat_minor": 0,
  "metadata": {
    "colab": {
      "provenance": [],
      "authorship_tag": "ABX9TyOl12nGjG7jHSuiF8bB8hOk",
      "include_colab_link": true
    },
    "kernelspec": {
      "name": "python3",
      "display_name": "Python 3"
    },
    "language_info": {
      "name": "python"
    }
  },
  "cells": [
    {
      "cell_type": "markdown",
      "metadata": {
        "id": "view-in-github",
        "colab_type": "text"
      },
      "source": [
        "<a href=\"https://colab.research.google.com/github/B34R-e/Data-Structures-and-Algorithms/blob/main/Recursion_and_Two_Pointers.ipynb\" target=\"_parent\"><img src=\"https://colab.research.google.com/assets/colab-badge.svg\" alt=\"Open In Colab\"/></a>"
      ]
    },
    {
      "cell_type": "markdown",
      "source": [
        "\n",
        "# Recursion and Two Pointers"
      ],
      "metadata": {
        "id": "ODTmyrJN2ko2"
      }
    },
    {
      "cell_type": "markdown",
      "source": [
        "## Recursion\n",
        "\n",
        "\n",
        "1.   A programming technique that breaks down a COMPLEX problem into smaller SIMPLE ones that can be managed easily.\n",
        "2.   Recursive solutions solve a problem by applying the same algorithm to each piece and then combining the result.\n",
        "\n"
      ],
      "metadata": {
        "id": "z0kUxB9m2pAB"
      }
    },
    {
      "cell_type": "markdown",
      "source": [
        "### First problem: Sum Function"
      ],
      "metadata": {
        "id": "G-r9Uiaj2r9t"
      }
    },
    {
      "cell_type": "code",
      "execution_count": 3,
      "metadata": {
        "id": "X0VsZxn02O_l"
      },
      "outputs": [],
      "source": [
        "# Not using Recursion\n",
        "def sum_not_using_recursion(array_list):\n",
        "  total = 0\n",
        "  for each in array_list:\n",
        "    total += each\n",
        "  return total"
      ]
    },
    {
      "cell_type": "code",
      "source": [
        "# Using Recursion\n",
        "def sum_using_recursion(array_list):\n",
        "\n",
        "  if len(array_list) == 0:\n",
        "    return 0\n",
        "\n",
        "  result = sum_using_recursion(array_list[1:])\n",
        "  return array_list[0] + result"
      ],
      "metadata": {
        "id": "5ZSguH5W2wqO"
      },
      "execution_count": 10,
      "outputs": []
    },
    {
      "cell_type": "code",
      "source": [
        "print(sum_not_using_recursion([1, 2, 3]))\n",
        "print(sum_using_recursion([1, 2, 3]))"
      ],
      "metadata": {
        "colab": {
          "base_uri": "https://localhost:8080/"
        },
        "id": "cAVqaRpi4FUP",
        "outputId": "595596a1-8ff9-4908-a579-bf94e736cd7a"
      },
      "execution_count": 13,
      "outputs": [
        {
          "output_type": "stream",
          "name": "stdout",
          "text": [
            "6\n",
            "6\n"
          ]
        }
      ]
    },
    {
      "cell_type": "markdown",
      "source": [
        "### Second problem: Factorial Function"
      ],
      "metadata": {
        "id": "qOh3xIws6JCL"
      }
    },
    {
      "cell_type": "code",
      "source": [
        "# Not using Recursion\n",
        "def factorial_not_using_recursion(number):\n",
        "  fac = 1\n",
        "  if number < 0:\n",
        "    return 0\n",
        "  \n",
        "  for i in range(2, number + 1):\n",
        "    fac *= i\n",
        "  \n",
        "  return fac"
      ],
      "metadata": {
        "id": "AD_WSlVa4Haa"
      },
      "execution_count": 12,
      "outputs": []
    },
    {
      "cell_type": "code",
      "source": [
        "# Using Recursion\n",
        "def factorial_using_recursion(number):\n",
        "  if number < 0:\n",
        "    return 0\n",
        "  elif number == 0 or number == 1:\n",
        "    return 1\n",
        "\n",
        "  smaller_problem = number - 1\n",
        "  smaller_result = factorial_using_recursion(smaller_problem)\n",
        "  return smaller_result * number"
      ],
      "metadata": {
        "id": "4XJgXTnB68NW"
      },
      "execution_count": 14,
      "outputs": []
    },
    {
      "cell_type": "code",
      "source": [
        "print(factorial_not_using_recursion(5))\n",
        "print(factorial_using_recursion(5))"
      ],
      "metadata": {
        "colab": {
          "base_uri": "https://localhost:8080/"
        },
        "id": "sBfDLIbk7rxW",
        "outputId": "3d8a012c-c220-4b01-fb97-0e9b47fef2e1"
      },
      "execution_count": 16,
      "outputs": [
        {
          "output_type": "stream",
          "name": "stdout",
          "text": [
            "120\n",
            "120\n"
          ]
        }
      ]
    },
    {
      "cell_type": "markdown",
      "source": [
        "### Third problem: Fibonacci Function"
      ],
      "metadata": {
        "id": "ccGrBnz98DCy"
      }
    },
    {
      "cell_type": "code",
      "source": [
        "# Not using Recursion\n",
        "def fibonacci_not_using_Recursion(number):\n",
        "  fibo_list = [0, 1]\n",
        "  while(len(fibo_list) <= number):\n",
        "    fibo_list.append(fibo_list[-2] + fibo_list[-1])\n",
        "  return fibo_list[-1]"
      ],
      "metadata": {
        "id": "vba-_hEJ8L0U"
      },
      "execution_count": 20,
      "outputs": []
    },
    {
      "cell_type": "code",
      "source": [
        "# Using Recursion\n",
        "def fibonacci_using_Recursion(number):\n",
        "  if number == 0:\n",
        "    return 0\n",
        "  if number == 1:\n",
        "    return 1\n",
        "\n",
        "  return fibonacci_using_Recursion(number - 1) + fibonacci_using_Recursion(number- 2)"
      ],
      "metadata": {
        "id": "PMdtmx6a9FTg"
      },
      "execution_count": 26,
      "outputs": []
    },
    {
      "cell_type": "code",
      "source": [
        "print(fibonacci_not_using_Recursion(4))\n",
        "print(fibonacci_using_Recursion(4))"
      ],
      "metadata": {
        "colab": {
          "base_uri": "https://localhost:8080/"
        },
        "id": "fbZQ0-IN9fku",
        "outputId": "c20e6453-abc9-4117-bdbe-177b73c0dcc2"
      },
      "execution_count": 27,
      "outputs": [
        {
          "output_type": "stream",
          "name": "stdout",
          "text": [
            "3\n",
            "3\n"
          ]
        }
      ]
    },
    {
      "cell_type": "markdown",
      "source": [
        "## Two Pointers\n",
        "\n",
        "\n",
        "1.   Technique pointer represent either **index** or an iteration attribute like node's next\n",
        "\n",
        "    =>  Access, keep track of array or string indices.\n",
        "\n",
        "    **\"Two are better than one if they act as one\"**\n",
        "\n",
        "\n",
        "**Three main steps:**\n",
        "\n",
        "      1.   Pointer Initialization.\n",
        "      2.   Pointer Movement.\n",
        "      3.   Stop Condition.\n",
        "\n",
        "\n",
        "\n",
        "\n",
        "\n"
      ],
      "metadata": {
        "id": "RvZ_ycRX9pL8"
      }
    },
    {
      "cell_type": "markdown",
      "source": [
        "### First problem: Reverse String"
      ],
      "metadata": {
        "id": "NS-X-c-z-prJ"
      }
    },
    {
      "cell_type": "code",
      "source": [
        "# Not using Two Pointers\n",
        "def reverse_string_not_using_two_pointers(a_string):\n",
        "  reversed_string = ''\n",
        "  for i in range(-1, -len(a_string) - 1, -1):\n",
        "    reversed_string += a_string[i]\n",
        "  return reversed_string"
      ],
      "metadata": {
        "id": "u_Z0lUJq9qvc"
      },
      "execution_count": 32,
      "outputs": []
    },
    {
      "cell_type": "code",
      "source": [
        "# Using Two Pointers\n",
        "def reverse_string_using_two_pointers(a_string):\n",
        "  reversed_string = list(a_string)\n",
        "  low_pointer = 0\n",
        "  high_pointer = len(reversed_string) - 1\n",
        "  while (low_pointer < high_pointer):\n",
        "    reversed_string[low_pointer], reversed_string[high_pointer] = reversed_string[high_pointer], reversed_string[low_pointer]\n",
        "    low_pointer += 1\n",
        "    high_pointer -= 1\n",
        "  return ''.join(reversed_string)"
      ],
      "metadata": {
        "id": "ea2bU0hV_c7D"
      },
      "execution_count": 38,
      "outputs": []
    },
    {
      "cell_type": "code",
      "source": [
        "print(reverse_string_not_using_two_pointers('Hello'))\n",
        "print(reverse_string_using_two_pointers('Hello'))"
      ],
      "metadata": {
        "colab": {
          "base_uri": "https://localhost:8080/"
        },
        "id": "JcCCX3DEAddR",
        "outputId": "335fa6be-eb1b-4c5b-ee6c-8602142cf144"
      },
      "execution_count": 40,
      "outputs": [
        {
          "output_type": "stream",
          "name": "stdout",
          "text": [
            "olleH\n",
            "olleH\n"
          ]
        }
      ]
    },
    {
      "cell_type": "markdown",
      "source": [
        "### Second: Count Subarray Sum Equals K"
      ],
      "metadata": {
        "id": "PGTbhw-cCFlV"
      }
    },
    {
      "cell_type": "code",
      "source": [
        "# Not using Two Pointers\n",
        "def count_subarray_sum_quals_K_not_using_two_pointers(array_list, K):\n",
        "  count = 0\n",
        "  for i in range(len(array_list)):\n",
        "    total = 0\n",
        "    for j in range(i, len(array_list)):\n",
        "      total += array_list[j]\n",
        "      if total == K:\n",
        "        count += 1\n",
        "  return count"
      ],
      "metadata": {
        "id": "lyENThM5AnXw"
      },
      "execution_count": 41,
      "outputs": []
    },
    {
      "cell_type": "code",
      "source": [
        "# Not using Two Pointers\n",
        "def count_subarray_sum_quals_K_using_two_pointers(array_list, K):\n",
        "  main_pointer = 0\n",
        "  sub_pointer = 0\n",
        "  count = 0\n",
        "  total = 0\n",
        "  while (main_pointer < len(array_list)) and (sub_pointer < len(array_list)):\n",
        "    if total + array_list[main_pointer] < K:\n",
        "      total += array_list[main_pointer]\n",
        "      main_pointer += 1\n",
        "    elif total + array_list[main_pointer] > K:\n",
        "      total -= array_list[sub_pointer]\n",
        "      sub_pointer += 1\n",
        "    else:\n",
        "      count += 1\n",
        "      total += array_list[main_pointer]\n",
        "      main_pointer += 1\n",
        "  return count"
      ],
      "metadata": {
        "id": "1EJzrY67GApZ"
      },
      "execution_count": 44,
      "outputs": []
    },
    {
      "cell_type": "code",
      "source": [
        "print(count_subarray_sum_quals_K_not_using_two_pointers([1, 2, 3, 5, 6], 5))\n",
        "print(count_subarray_sum_quals_K_using_two_pointers([1, 2, 3, 5, 6], 5))"
      ],
      "metadata": {
        "colab": {
          "base_uri": "https://localhost:8080/"
        },
        "id": "UVJYijLsIk_v",
        "outputId": "53f46ccb-2e3d-4ebe-da09-8107fe1f44e4"
      },
      "execution_count": 46,
      "outputs": [
        {
          "output_type": "stream",
          "name": "stdout",
          "text": [
            "2\n",
            "2\n"
          ]
        }
      ]
    }
  ]
}